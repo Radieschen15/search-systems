{
 "cells": [
  {
   "cell_type": "markdown",
   "id": "7e085f17",
   "metadata": {},
   "source": [
    "## ЛР 2. Извлечение именованных сущностей"
   ]
  },
  {
   "cell_type": "code",
   "execution_count": 145,
   "id": "e2336626",
   "metadata": {},
   "outputs": [],
   "source": [
    "import wikipedia\n",
    "import re\n",
    "from yargy import Parser, rule, and_, or_, not_\n",
    "from yargy.tokenizer import MorphTokenizer\n",
    "from yargy.pipelines import morph_pipeline\n",
    "from yargy.interpretation import fact, attribute\n",
    "from yargy.predicates import gram, dictionary, gte, lte, eq, type as yatype\n",
    "from yargy.pipelines import pipeline, morph_pipeline\n",
    "from IPython.display import display\n",
    "\n",
    "wikipedia.set_lang(\"ru\")\n"
   ]
  },
  {
   "cell_type": "markdown",
   "id": "a4d2deb9",
   "metadata": {},
   "source": [
    "### Загрузим статью из Википедии"
   ]
  },
  {
   "cell_type": "code",
   "execution_count": 146,
   "id": "7e5f49f5",
   "metadata": {},
   "outputs": [
    {
     "data": {
      "text/plain": [
       "12731"
      ]
     },
     "execution_count": 146,
     "metadata": {},
     "output_type": "execute_result"
    }
   ],
   "source": [
    "TITLE = 'Франция'\n",
    "\n",
    "wiki = wikipedia.page(TITLE)\n",
    "text = wiki.content\n",
    "text = re.sub(r'==.*?==+', '', text)\n",
    "len(text.split())"
   ]
  },
  {
   "cell_type": "markdown",
   "id": "0377e246",
   "metadata": {},
   "source": [
    "### Сохраним статью в файл"
   ]
  },
  {
   "cell_type": "code",
   "execution_count": 147,
   "id": "7df1d0c4",
   "metadata": {},
   "outputs": [],
   "source": [
    "FILENAME = 'france.txt'\n",
    "\n",
    "f = open(FILENAME, \"w\")\n",
    "f.write(text)\n",
    "f.close()"
   ]
  },
  {
   "cell_type": "markdown",
   "id": "251485d0",
   "metadata": {},
   "source": [
    "### Прочитаем файл"
   ]
  },
  {
   "cell_type": "code",
   "execution_count": 148,
   "id": "a2d2ecbc",
   "metadata": {},
   "outputs": [
    {
     "data": {
      "text/plain": [
       "605"
      ]
     },
     "execution_count": 148,
     "metadata": {},
     "output_type": "execute_result"
    }
   ],
   "source": [
    "f = open(FILENAME, \"r\")\n",
    "text = f.read()\n",
    "sents = text.splitlines()\n",
    "len(sents)"
   ]
  },
  {
   "cell_type": "code",
   "execution_count": 149,
   "id": "cb384c6f",
   "metadata": {},
   "outputs": [
    {
     "data": {
      "text/plain": [
       "['Фра́нция (фр. France, [fʁɑ̃s]  слушать), официальное название — Францу́зская Респу́блика (фр. République française, [ʁe.py.blik fʁɑ̃.sɛz]  слушать) — трансконтинентальное государство, включающее основную территорию в Западной Европе и ряд заморских регионов и территорий. Столица — Париж. Девиз Республики — «Свобода, равенство, братство», её принцип — правление народа, народом и для народа.',\n",
       " 'Название страны происходит от этнонима древнегерманского племени франков. Большинство населения Франции имеет смешанное галло-романское происхождение и говорит на языке романской группы.',\n",
       " 'Население — 62 814 233 человека в метрополии и 67 848 156 человек — с учётом заморских владений (оценка на 1 июля 2020), в том числе около 90 % — граждане Франции. Состав населения Франции по вероисповеданию по состоянию на 2019 год: католики — 41 %, нерелигиозные — 40 %, мусульмане — 5 %, другие религии — 5 %, лютеране — 2 %, православные — 2 %, другие христиане — 2 %, буддисты — 1 % , иудеи — 1 %, нет данных — 1 %.']"
      ]
     },
     "execution_count": 149,
     "metadata": {},
     "output_type": "execute_result"
    }
   ],
   "source": [
    "sents[:3]"
   ]
  },
  {
   "cell_type": "code",
   "execution_count": 150,
   "id": "e7fd2979",
   "metadata": {},
   "outputs": [],
   "source": [
    "# Применение парсера\n",
    "def parse(rules):\n",
    "    parser = Parser(rules)\n",
    "    for sent in sents:\n",
    "        for match in parser.findall(sent):\n",
    "            display(match.fact)"
   ]
  },
  {
   "cell_type": "markdown",
   "id": "0035fc98",
   "metadata": {},
   "source": [
    "## Определение именованных сущностей"
   ]
  },
  {
   "cell_type": "markdown",
   "id": "5fbc09d1",
   "metadata": {},
   "source": [
    "### Персоны с должностями"
   ]
  },
  {
   "cell_type": "code",
   "execution_count": 151,
   "id": "41f140ad",
   "metadata": {},
   "outputs": [
    {
     "data": {
      "text/plain": [
       "Person(\n",
       "    position='президент',\n",
       "    name=Name(\n",
       "        first='жак',\n",
       "        last='ширак'\n",
       "    )\n",
       ")"
      ]
     },
     "metadata": {},
     "output_type": "display_data"
    }
   ],
   "source": [
    "Person = fact(\n",
    "    'Person',\n",
    "    ['position', 'name']\n",
    ")\n",
    "Name = fact(\n",
    "    'Name',\n",
    "    ['first', 'last']\n",
    ")\n",
    "\n",
    "\n",
    "POSITION = morph_pipeline([\n",
    "    'президент',\n",
    "    'король'\n",
    "])\n",
    "\n",
    "NAME = rule(\n",
    "    gram('Name').interpretation(\n",
    "        Name.first.inflected()\n",
    "    ),\n",
    "    gram('Surn').interpretation(\n",
    "        Name.last.inflected()\n",
    "    )\n",
    ").interpretation(\n",
    "    Name\n",
    ")\n",
    "\n",
    "PERSON = rule(\n",
    "    POSITION.interpretation(\n",
    "        Person.position.inflected()\n",
    "    ),\n",
    "    NAME.interpretation(\n",
    "        Person.name\n",
    "    )\n",
    ").interpretation(\n",
    "    Person\n",
    ")\n",
    "\n",
    "\n",
    "parse(PERSON)"
   ]
  },
  {
   "cell_type": "markdown",
   "id": "d9b93e82",
   "metadata": {},
   "source": [
    "### Полные даты"
   ]
  },
  {
   "cell_type": "code",
   "execution_count": 152,
   "id": "04a66138",
   "metadata": {},
   "outputs": [
    {
     "data": {
      "text/plain": [
       "Date(\n",
       "    year='2020',\n",
       "    month='июля',\n",
       "    day='1'\n",
       ")"
      ]
     },
     "metadata": {},
     "output_type": "display_data"
    },
    {
     "data": {
      "text/plain": [
       "Date(\n",
       "    year='1970',\n",
       "    month='ноября',\n",
       "    day='9'\n",
       ")"
      ]
     },
     "metadata": {},
     "output_type": "display_data"
    },
    {
     "data": {
      "text/plain": [
       "Date(\n",
       "    year='1995',\n",
       "    month='мая',\n",
       "    day='17'\n",
       ")"
      ]
     },
     "metadata": {},
     "output_type": "display_data"
    },
    {
     "data": {
      "text/plain": [
       "Date(\n",
       "    year='2007',\n",
       "    month='мая',\n",
       "    day='16'\n",
       ")"
      ]
     },
     "metadata": {},
     "output_type": "display_data"
    },
    {
     "data": {
      "text/plain": [
       "Date(\n",
       "    year='2007',\n",
       "    month='мая',\n",
       "    day='16'\n",
       ")"
      ]
     },
     "metadata": {},
     "output_type": "display_data"
    },
    {
     "data": {
      "text/plain": [
       "Date(\n",
       "    year='2008',\n",
       "    month='июля',\n",
       "    day='21'\n",
       ")"
      ]
     },
     "metadata": {},
     "output_type": "display_data"
    },
    {
     "data": {
      "text/plain": [
       "Date(\n",
       "    year='2012',\n",
       "    month='мая',\n",
       "    day='6'\n",
       ")"
      ]
     },
     "metadata": {},
     "output_type": "display_data"
    },
    {
     "data": {
      "text/plain": [
       "Date(\n",
       "    year='1967',\n",
       "    month='марта',\n",
       "    day='1'\n",
       ")"
      ]
     },
     "metadata": {},
     "output_type": "display_data"
    },
    {
     "data": {
      "text/plain": [
       "Date(\n",
       "    year='1958',\n",
       "    month='октября',\n",
       "    day='4'\n",
       ")"
      ]
     },
     "metadata": {},
     "output_type": "display_data"
    },
    {
     "data": {
      "text/plain": [
       "Date(\n",
       "    year='2020',\n",
       "    month='июля',\n",
       "    day='3'\n",
       ")"
      ]
     },
     "metadata": {},
     "output_type": "display_data"
    },
    {
     "data": {
      "text/plain": [
       "Date(\n",
       "    year='2017',\n",
       "    month='июня',\n",
       "    day='18'\n",
       ")"
      ]
     },
     "metadata": {},
     "output_type": "display_data"
    },
    {
     "data": {
      "text/plain": [
       "Date(\n",
       "    year='2007',\n",
       "    month='июня',\n",
       "    day='17'\n",
       ")"
      ]
     },
     "metadata": {},
     "output_type": "display_data"
    },
    {
     "data": {
      "text/plain": [
       "Date(\n",
       "    year='2009',\n",
       "    month='апреля',\n",
       "    day='4'\n",
       ")"
      ]
     },
     "metadata": {},
     "output_type": "display_data"
    },
    {
     "data": {
      "text/plain": [
       "Date(\n",
       "    year='2008',\n",
       "    month='августа',\n",
       "    day='12'\n",
       ")"
      ]
     },
     "metadata": {},
     "output_type": "display_data"
    },
    {
     "data": {
      "text/plain": [
       "Date(\n",
       "    year='2017',\n",
       "    month='января',\n",
       "    day='1'\n",
       ")"
      ]
     },
     "metadata": {},
     "output_type": "display_data"
    },
    {
     "data": {
      "text/plain": [
       "Date(\n",
       "    year='2020',\n",
       "    month='января',\n",
       "    day='1'\n",
       ")"
      ]
     },
     "metadata": {},
     "output_type": "display_data"
    },
    {
     "data": {
      "text/plain": [
       "Date(\n",
       "    year='2011',\n",
       "    month='июня',\n",
       "    day='1'\n",
       ")"
      ]
     },
     "metadata": {},
     "output_type": "display_data"
    },
    {
     "data": {
      "text/plain": [
       "Date(\n",
       "    year='2021',\n",
       "    month='апреля',\n",
       "    day='14'\n",
       ")"
      ]
     },
     "metadata": {},
     "output_type": "display_data"
    },
    {
     "data": {
      "text/plain": [
       "Date(\n",
       "    year=None,\n",
       "    month='июня',\n",
       "    day='21'\n",
       ")"
      ]
     },
     "metadata": {},
     "output_type": "display_data"
    },
    {
     "data": {
      "text/plain": [
       "Date(\n",
       "    year='2021',\n",
       "    month='апреля',\n",
       "    day='14'\n",
       ")"
      ]
     },
     "metadata": {},
     "output_type": "display_data"
    },
    {
     "data": {
      "text/plain": [
       "Date(\n",
       "    year='2021',\n",
       "    month='апреля',\n",
       "    day='14'\n",
       ")"
      ]
     },
     "metadata": {},
     "output_type": "display_data"
    },
    {
     "data": {
      "text/plain": [
       "Date(\n",
       "    year='2021',\n",
       "    month='апреля',\n",
       "    day='14'\n",
       ")"
      ]
     },
     "metadata": {},
     "output_type": "display_data"
    }
   ],
   "source": [
    "Date = fact(\n",
    "    'Date',\n",
    "    ['year', 'month', 'day']\n",
    ")\n",
    "\n",
    "\n",
    "MONTHS = {\n",
    "    'январь',\n",
    "    'февраль',\n",
    "    'март',\n",
    "    'апрель',\n",
    "    'май',\n",
    "    'июнь',\n",
    "    'июль',\n",
    "    'август',\n",
    "    'сентябрь',\n",
    "    'октябрь',\n",
    "    'ноябрь',\n",
    "    'декабрь'\n",
    "}\n",
    "\n",
    "\n",
    "MONTH_NAME = dictionary(MONTHS)\n",
    "DAY = and_(\n",
    "    gte(1),\n",
    "    lte(31)\n",
    ")\n",
    "YEAR = and_(\n",
    "    gte(400),\n",
    "    lte(2100)\n",
    ")\n",
    "DATE = rule(\n",
    "    DAY.interpretation(\n",
    "        Date.day\n",
    "    ),\n",
    "    MONTH_NAME.interpretation(\n",
    "        Date.month\n",
    "    ),\n",
    "    YEAR.interpretation(\n",
    "        Date.year\n",
    "    ).optional()\n",
    ").interpretation(\n",
    "    Date\n",
    ")\n",
    "\n",
    "parse(DATE)"
   ]
  },
  {
   "cell_type": "markdown",
   "id": "c49732db",
   "metadata": {},
   "source": [
    "### Названия в кавычках"
   ]
  },
  {
   "cell_type": "code",
   "execution_count": 153,
   "id": "3547e100",
   "metadata": {},
   "outputs": [
    {
     "data": {
      "text/plain": [
       "Item(\n",
       "    titles=['«Свобода, равенство, братство»']\n",
       ")"
      ]
     },
     "metadata": {},
     "output_type": "display_data"
    },
    {
     "data": {
      "text/plain": [
       "Item(\n",
       "    titles=['«Франция»']\n",
       ")"
      ]
     },
     "metadata": {},
     "output_type": "display_data"
    },
    {
     "data": {
      "text/plain": [
       "Item(\n",
       "    titles=['«Франкия»']\n",
       ")"
      ]
     },
     "metadata": {},
     "output_type": "display_data"
    },
    {
     "data": {
      "text/plain": [
       "Item(\n",
       "    titles=['«страна франков»']\n",
       ")"
      ]
     },
     "metadata": {},
     "output_type": "display_data"
    },
    {
     "data": {
      "text/plain": [
       "Item(\n",
       "    titles=['«франки»']\n",
       ")"
      ]
     },
     "metadata": {},
     "output_type": "display_data"
    },
    {
     "data": {
      "text/plain": [
       "Item(\n",
       "    titles=['«Франция»']\n",
       ")"
      ]
     },
     "metadata": {},
     "output_type": "display_data"
    },
    {
     "data": {
      "text/plain": [
       "Item(\n",
       "    titles=['«остров Франции»']\n",
       ")"
      ]
     },
     "metadata": {},
     "output_type": "display_data"
    },
    {
     "data": {
      "text/plain": [
       "Item(\n",
       "    titles=['«франк»']\n",
       ")"
      ]
     },
     "metadata": {},
     "output_type": "display_data"
    },
    {
     "data": {
      "text/plain": [
       "Item(\n",
       "    titles=['«свободный»']\n",
       ")"
      ]
     },
     "metadata": {},
     "output_type": "display_data"
    },
    {
     "data": {
      "text/plain": [
       "Item(\n",
       "    titles=['«франк»']\n",
       ")"
      ]
     },
     "metadata": {},
     "output_type": "display_data"
    },
    {
     "data": {
      "text/plain": [
       "Item(\n",
       "    titles=['«свободный»']\n",
       ")"
      ]
     },
     "metadata": {},
     "output_type": "display_data"
    },
    {
     "data": {
      "text/plain": [
       "Item(\n",
       "    titles=['«франк»']\n",
       ")"
      ]
     },
     "metadata": {},
     "output_type": "display_data"
    },
    {
     "data": {
      "text/plain": [
       "Item(\n",
       "    titles=['«копьё»']\n",
       ")"
      ]
     },
     "metadata": {},
     "output_type": "display_data"
    },
    {
     "data": {
      "text/plain": [
       "Item(\n",
       "    titles=['«франциска»']\n",
       ")"
      ]
     },
     "metadata": {},
     "output_type": "display_data"
    },
    {
     "data": {
      "text/plain": [
       "Item(\n",
       "    titles=['«государство в государстве»']\n",
       ")"
      ]
     },
     "metadata": {},
     "output_type": "display_data"
    },
    {
     "data": {
      "text/plain": [
       "Item(\n",
       "    titles=['«короля-солнца»']\n",
       ")"
      ]
     },
     "metadata": {},
     "output_type": "display_data"
    },
    {
     "data": {
      "text/plain": [
       "Item(\n",
       "    titles=['«американизации»']\n",
       ")"
      ]
     },
     "metadata": {},
     "output_type": "display_data"
    },
    {
     "data": {
      "text/plain": [
       "Item(\n",
       "    titles=['«восстановлению величия Франции»']\n",
       ")"
      ]
     },
     "metadata": {},
     "output_type": "display_data"
    },
    {
     "data": {
      "text/plain": [
       "Item(\n",
       "    titles=['«ядерному клубу»']\n",
       ")"
      ]
     },
     "metadata": {},
     "output_type": "display_data"
    },
    {
     "data": {
      "text/plain": [
       "Item(\n",
       "    titles=['«Союз за французскую демократию»']\n",
       ")"
      ]
     },
     "metadata": {},
     "output_type": "display_data"
    },
    {
     "data": {
      "text/plain": [
       "Item(\n",
       "    titles=['«Союз за народное движение»']\n",
       ")"
      ]
     },
     "metadata": {},
     "output_type": "display_data"
    },
    {
     "data": {
      "text/plain": [
       "Item(\n",
       "    titles=['«О судебной власти»']\n",
       ")"
      ]
     },
     "metadata": {},
     "output_type": "display_data"
    },
    {
     "data": {
      "text/plain": [
       "Item(\n",
       "    titles=['«R.F»']\n",
       ")"
      ]
     },
     "metadata": {},
     "output_type": "display_data"
    },
    {
     "data": {
      "text/plain": [
       "Item(\n",
       "    titles=['«Объединения в поддержку республики»']\n",
       ")"
      ]
     },
     "metadata": {},
     "output_type": "display_data"
    },
    {
     "data": {
      "text/plain": [
       "Item(\n",
       "    titles=['«Вставай, республика»']\n",
       ")"
      ]
     },
     "metadata": {},
     "output_type": "display_data"
    },
    {
     "data": {
      "text/plain": [
       "Item(\n",
       "    titles=['«Европа Экология»']\n",
       ")"
      ]
     },
     "metadata": {},
     "output_type": "display_data"
    },
    {
     "data": {
      "text/plain": [
       "Item(\n",
       "    titles=['«Зелёных»']\n",
       ")"
      ]
     },
     "metadata": {},
     "output_type": "display_data"
    },
    {
     "data": {
      "text/plain": [
       "Item(\n",
       "    titles=['«Конвергенция и альтернативы»']\n",
       ")"
      ]
     },
     "metadata": {},
     "output_type": "display_data"
    },
    {
     "data": {
      "text/plain": [
       "Item(\n",
       "    titles=['«Союз за народное движение»']\n",
       ")"
      ]
     },
     "metadata": {},
     "output_type": "display_data"
    },
    {
     "data": {
      "text/plain": [
       "Item(\n",
       "    titles=['«Центристский Союз»']\n",
       ")"
      ]
     },
     "metadata": {},
     "output_type": "display_data"
    },
    {
     "data": {
      "text/plain": [
       "Item(\n",
       "    titles=['«Европейское демократическое и социальное объединение»']\n",
       ")"
      ]
     },
     "metadata": {},
     "output_type": "display_data"
    },
    {
     "data": {
      "text/plain": [
       "Item(\n",
       "    titles=['«Союз за народное Движение»']\n",
       ")"
      ]
     },
     "metadata": {},
     "output_type": "display_data"
    },
    {
     "data": {
      "text/plain": [
       "Item(\n",
       "    titles=['«Левый союз»']\n",
       ")"
      ]
     },
     "metadata": {},
     "output_type": "display_data"
    },
    {
     "data": {
      "text/plain": [
       "Item(\n",
       "    titles=['«Социалистической партией»']\n",
       ")"
      ]
     },
     "metadata": {},
     "output_type": "display_data"
    },
    {
     "data": {
      "text/plain": [
       "Item(\n",
       "    titles=['«Европа-экология»']\n",
       ")"
      ]
     },
     "metadata": {},
     "output_type": "display_data"
    },
    {
     "data": {
      "text/plain": [
       "Item(\n",
       "    titles=['«Левый Фронт»']\n",
       ")"
      ]
     },
     "metadata": {},
     "output_type": "display_data"
    },
    {
     "data": {
      "text/plain": [
       "Item(\n",
       "    titles=['«Союз за народное движение»']\n",
       ")"
      ]
     },
     "metadata": {},
     "output_type": "display_data"
    },
    {
     "data": {
      "text/plain": [
       "Item(\n",
       "    titles=['«Левый союз»']\n",
       ")"
      ]
     },
     "metadata": {},
     "output_type": "display_data"
    },
    {
     "data": {
      "text/plain": [
       "Item(\n",
       "    titles=['«Национального фронта»']\n",
       ")"
      ]
     },
     "metadata": {},
     "output_type": "display_data"
    },
    {
     "data": {
      "text/plain": [
       "Item(\n",
       "    titles=['«Национальный Фронт»']\n",
       ")"
      ]
     },
     "metadata": {},
     "output_type": "display_data"
    },
    {
     "data": {
      "text/plain": [
       "Item(\n",
       "    titles=['«великой державой»']\n",
       ")"
      ]
     },
     "metadata": {},
     "output_type": "display_data"
    },
    {
     "data": {
      "text/plain": [
       "Item(\n",
       "    titles=['«знаменосцем»']\n",
       ")"
      ]
     },
     "metadata": {},
     "output_type": "display_data"
    },
    {
     "data": {
      "text/plain": [
       "Item(\n",
       "    titles=['«европейской оборонной идентичности»']\n",
       ")"
      ]
     },
     "metadata": {},
     "output_type": "display_data"
    },
    {
     "data": {
      "text/plain": [
       "Item(\n",
       "    titles=['«специализации»']\n",
       ")"
      ]
     },
     "metadata": {},
     "output_type": "display_data"
    },
    {
     "data": {
      "text/plain": [
       "Item(\n",
       "    titles=['«восточном»']\n",
       ")"
      ]
     },
     "metadata": {},
     "output_type": "display_data"
    },
    {
     "data": {
      "text/plain": [
       "Item(\n",
       "    titles=['«западной семьи»']\n",
       ")"
      ]
     },
     "metadata": {},
     "output_type": "display_data"
    },
    {
     "data": {
      "text/plain": [
       "Item(\n",
       "    titles=['«Буря в пустыне»']\n",
       ")"
      ]
     },
     "metadata": {},
     "output_type": "display_data"
    },
    {
     "data": {
      "text/plain": [
       "Item(\n",
       "    titles=['«ограниченного ядерного арсенала на минимально необходимом уровне»']\n",
       ")"
      ]
     },
     "metadata": {},
     "output_type": "display_data"
    },
    {
     "data": {
      "text/plain": [
       "Item(\n",
       "    titles=['«национальное меньшинство»']\n",
       ")"
      ]
     },
     "metadata": {},
     "output_type": "display_data"
    },
    {
     "data": {
      "text/plain": [
       "Item(\n",
       "    titles=['«национальность»']\n",
       ")"
      ]
     },
     "metadata": {},
     "output_type": "display_data"
    },
    {
     "data": {
      "text/plain": [
       "Item(\n",
       "    titles=['«nationalité»']\n",
       ")"
      ]
     },
     "metadata": {},
     "output_type": "display_data"
    },
    {
     "data": {
      "text/plain": [
       "Item(\n",
       "    titles=['«гражданство»']\n",
       ")"
      ]
     },
     "metadata": {},
     "output_type": "display_data"
    },
    {
     "data": {
      "text/plain": [
       "Item(\n",
       "    titles=['«national, nationale»']\n",
       ")"
      ]
     },
     "metadata": {},
     "output_type": "display_data"
    },
    {
     "data": {
      "text/plain": [
       "Item(\n",
       "    titles=['«nation»']\n",
       ")"
      ]
     },
     "metadata": {},
     "output_type": "display_data"
    },
    {
     "data": {
      "text/plain": [
       "Item(\n",
       "    titles=['«корси»']\n",
       ")"
      ]
     },
     "metadata": {},
     "output_type": "display_data"
    },
    {
     "data": {
      "text/plain": [
       "Item(\n",
       "    titles=['«говорящие по-баскски»']\n",
       ")"
      ]
     },
     "metadata": {},
     "output_type": "display_data"
    },
    {
     "data": {
      "text/plain": [
       "Item(\n",
       "    titles=['«да»']\n",
       ")"
      ]
     },
     "metadata": {},
     "output_type": "display_data"
    },
    {
     "data": {
      "text/plain": [
       "Item(\n",
       "    titles=['«частью наследия страны»']\n",
       ")"
      ]
     },
     "metadata": {},
     "output_type": "display_data"
    },
    {
     "data": {
      "text/plain": [
       "Item(\n",
       "    titles=['«крупной»']\n",
       ")"
      ]
     },
     "metadata": {},
     "output_type": "display_data"
    },
    {
     "data": {
      "text/plain": [
       "Item(\n",
       "    titles=['«терруар»']\n",
       ")"
      ]
     },
     "metadata": {},
     "output_type": "display_data"
    },
    {
     "data": {
      "text/plain": [
       "Item(\n",
       "    titles=['«апелласьон»']\n",
       ")"
      ]
     },
     "metadata": {},
     "output_type": "display_data"
    },
    {
     "data": {
      "text/plain": [
       "Item(\n",
       "    titles=['«Вина Франции»']\n",
       ")"
      ]
     },
     "metadata": {},
     "output_type": "display_data"
    },
    {
     "data": {
      "text/plain": [
       "Item(\n",
       "    titles=['«Électricité de France»']\n",
       ")"
      ]
     },
     "metadata": {},
     "output_type": "display_data"
    },
    {
     "data": {
      "text/plain": [
       "Item(\n",
       "    titles=['«Газ де Франс»']\n",
       ")"
      ]
     },
     "metadata": {},
     "output_type": "display_data"
    },
    {
     "data": {
      "text/plain": [
       "Item(\n",
       "    titles=['«пламенеющей готики»']\n",
       ")"
      ]
     },
     "metadata": {},
     "output_type": "display_data"
    },
    {
     "data": {
      "text/plain": [
       "Item(\n",
       "    titles=['«Барбизонской школы»']\n",
       ")"
      ]
     },
     "metadata": {},
     "output_type": "display_data"
    },
    {
     "data": {
      "text/plain": [
       "Item(\n",
       "    titles=['«Гаргантюа и Пантагрюэль»']\n",
       ")"
      ]
     },
     "metadata": {},
     "output_type": "display_data"
    },
    {
     "data": {
      "text/plain": [
       "Item(\n",
       "    titles=['«Опытах»']\n",
       ")"
      ]
     },
     "metadata": {},
     "output_type": "display_data"
    },
    {
     "data": {
      "text/plain": [
       "Item(\n",
       "    titles=['«Облагородить»']\n",
       ")"
      ]
     },
     "metadata": {},
     "output_type": "display_data"
    },
    {
     "data": {
      "text/plain": [
       "Item(\n",
       "    titles=['«Плеяды»']\n",
       ")"
      ]
     },
     "metadata": {},
     "output_type": "display_data"
    },
    {
     "data": {
      "text/plain": [
       "Item(\n",
       "    titles=['«Манон Леско»',\n",
       "     '«Опасные связи»',\n",
       "     '«Кандид»']\n",
       ")"
      ]
     },
     "metadata": {},
     "output_type": "display_data"
    },
    {
     "data": {
      "text/plain": [
       "Item(\n",
       "    titles=['«поэт чувства»']\n",
       ")"
      ]
     },
     "metadata": {},
     "output_type": "display_data"
    },
    {
     "data": {
      "text/plain": [
       "Item(\n",
       "    titles=['«Человеческая комедия»']\n",
       ")"
      ]
     },
     "metadata": {},
     "output_type": "display_data"
    },
    {
     "data": {
      "text/plain": [
       "Item(\n",
       "    titles=['«Мадам Бовари»']\n",
       ")"
      ]
     },
     "metadata": {},
     "output_type": "display_data"
    },
    {
     "data": {
      "text/plain": [
       "Item(\n",
       "    titles=['«Саламбо»']\n",
       ")"
      ]
     },
     "metadata": {},
     "output_type": "display_data"
    },
    {
     "data": {
      "text/plain": [
       "Item(\n",
       "    titles=['«Мадам Бовари»']\n",
       ")"
      ]
     },
     "metadata": {},
     "output_type": "display_data"
    },
    {
     "data": {
      "text/plain": [
       "Item(\n",
       "    titles=['«школа Флобера»']\n",
       ")"
      ]
     },
     "metadata": {},
     "output_type": "display_data"
    },
    {
     "data": {
      "text/plain": [
       "Item(\n",
       "    titles=['«искусства ради искусства»']\n",
       ")"
      ]
     },
     "metadata": {},
     "output_type": "display_data"
    },
    {
     "data": {
      "text/plain": [
       "Item(\n",
       "    titles=['«проклятых поэтов»']\n",
       ")"
      ]
     },
     "metadata": {},
     "output_type": "display_data"
    },
    {
     "data": {
      "text/plain": [
       "Item(\n",
       "    titles=['«Цветы зла»']\n",
       ")"
      ]
     },
     "metadata": {},
     "output_type": "display_data"
    },
    {
     "data": {
      "text/plain": [
       "Item(\n",
       "    titles=['«неистового»']\n",
       ")"
      ]
     },
     "metadata": {},
     "output_type": "display_data"
    },
    {
     "data": {
      "text/plain": [
       "Item(\n",
       "    titles=['«роман-поток»']\n",
       ")"
      ]
     },
     "metadata": {},
     "output_type": "display_data"
    },
    {
     "data": {
      "text/plain": [
       "Item(\n",
       "    titles=['«В поисках утраченного времени»']\n",
       ")"
      ]
     },
     "metadata": {},
     "output_type": "display_data"
    },
    {
     "data": {
      "text/plain": [
       "Item(\n",
       "    titles=['«Нувель Ревю Франсез»']\n",
       ")"
      ]
     },
     "metadata": {},
     "output_type": "display_data"
    },
    {
     "data": {
      "text/plain": [
       "Item(\n",
       "    titles=['«расиновскому»']\n",
       ")"
      ]
     },
     "metadata": {},
     "output_type": "display_data"
    },
    {
     "data": {
      "text/plain": [
       "Item(\n",
       "    titles=['«театра абсурда»']\n",
       ")"
      ]
     },
     "metadata": {},
     "output_type": "display_data"
    },
    {
     "data": {
      "text/plain": [
       "Item(\n",
       "    titles=['«новый роман»']\n",
       ")"
      ]
     },
     "metadata": {},
     "output_type": "display_data"
    },
    {
     "data": {
      "text/plain": [
       "Item(\n",
       "    titles=['«Шестёрки»']\n",
       ")"
      ]
     },
     "metadata": {},
     "output_type": "display_data"
    },
    {
     "data": {
      "text/plain": [
       "Item(\n",
       "    titles=['«спектральной музыки»']\n",
       ")"
      ]
     },
     "metadata": {},
     "output_type": "display_data"
    },
    {
     "data": {
      "text/plain": [
       "Item(\n",
       "    titles=['«уличный»']\n",
       ")"
      ]
     },
     "metadata": {},
     "output_type": "display_data"
    },
    {
     "data": {
      "text/plain": [
       "Item(\n",
       "    titles=['«Пармская обитель»']\n",
       ")"
      ]
     },
     "metadata": {},
     "output_type": "display_data"
    },
    {
     "data": {
      "text/plain": [
       "Item(\n",
       "    titles=['«Красное и чёрное»']\n",
       ")"
      ]
     },
     "metadata": {},
     "output_type": "display_data"
    },
    {
     "data": {
      "text/plain": [
       "Item(\n",
       "    titles=['«Тереза Ракен»']\n",
       ")"
      ]
     },
     "metadata": {},
     "output_type": "display_data"
    },
    {
     "data": {
      "text/plain": [
       "Item(\n",
       "    titles=['«Хиросима, любовь моя»']\n",
       ")"
      ]
     },
     "metadata": {},
     "output_type": "display_data"
    },
    {
     "data": {
      "text/plain": [
       "Item(\n",
       "    titles=['«новой волны»']\n",
       ")"
      ]
     },
     "metadata": {},
     "output_type": "display_data"
    },
    {
     "data": {
      "text/plain": [
       "Item(\n",
       "    titles=['«Шербурские зонтики»']\n",
       ")"
      ]
     },
     "metadata": {},
     "output_type": "display_data"
    },
    {
     "data": {
      "text/plain": [
       "Item(\n",
       "    titles=['«Девушки из Рошфора»']\n",
       ")"
      ]
     },
     "metadata": {},
     "output_type": "display_data"
    },
    {
     "data": {
      "text/plain": [
       "Item(\n",
       "    titles=['«Сезар»']\n",
       ")"
      ]
     },
     "metadata": {},
     "output_type": "display_data"
    },
    {
     "data": {
      "text/plain": [
       "Item(\n",
       "    titles=['«Les Confrères de la Passion»']\n",
       ")"
      ]
     },
     "metadata": {},
     "output_type": "display_data"
    },
    {
     "data": {
      "text/plain": [
       "Item(\n",
       "    titles=['«Театр дю солей»']\n",
       ")"
      ]
     },
     "metadata": {},
     "output_type": "display_data"
    },
    {
     "data": {
      "text/plain": [
       "Item(\n",
       "    titles=['«новый цирк»']\n",
       ")"
      ]
     },
     "metadata": {},
     "output_type": "display_data"
    },
    {
     "data": {
      "text/plain": [
       "Item(\n",
       "    titles=['«L’Equipe»']\n",
       ")"
      ]
     },
     "metadata": {},
     "output_type": "display_data"
    },
    {
     "data": {
      "text/plain": [
       "Item(\n",
       "    titles=['«Les Echos»']\n",
       ")"
      ]
     },
     "metadata": {},
     "output_type": "display_data"
    },
    {
     "data": {
      "text/plain": [
       "Item(\n",
       "    titles=['«20 minutes»']\n",
       ")"
      ]
     },
     "metadata": {},
     "output_type": "display_data"
    },
    {
     "data": {
      "text/plain": [
       "Item(\n",
       "    titles=['«Direct matin»']\n",
       ")"
      ]
     },
     "metadata": {},
     "output_type": "display_data"
    },
    {
     "data": {
      "text/plain": [
       "Item(\n",
       "    titles=['«Metro»']\n",
       ")"
      ]
     },
     "metadata": {},
     "output_type": "display_data"
    },
    {
     "data": {
      "text/plain": [
       "Item(\n",
       "    titles=['«Ouest-France»']\n",
       ")"
      ]
     },
     "metadata": {},
     "output_type": "display_data"
    }
   ],
   "source": [
    "Item = fact(\n",
    "    'Item',\n",
    "    [attribute('titles').repeatable()]\n",
    ")\n",
    "\n",
    "TITLE = rule(\n",
    "    '«',\n",
    "    not_(eq('»')).repeatable(),\n",
    "    '»'\n",
    ")\n",
    "ITEM = rule(\n",
    "    TITLE.interpretation(\n",
    "        Item.titles\n",
    "    ),\n",
    "    eq(',').optional()\n",
    ").repeatable().interpretation(\n",
    "    Item\n",
    ")\n",
    "\n",
    "parse(ITEM)"
   ]
  },
  {
   "cell_type": "markdown",
   "id": "fabf2945",
   "metadata": {},
   "source": [
    "### Описание страны через прилагательные"
   ]
  },
  {
   "cell_type": "code",
   "execution_count": 154,
   "id": "8ce3e76a",
   "metadata": {},
   "outputs": [
    {
     "data": {
      "text/plain": [
       "Country(\n",
       "    adj='трансконтинентальное',\n",
       "    subj='государство'\n",
       ")"
      ]
     },
     "metadata": {},
     "output_type": "display_data"
    },
    {
     "data": {
      "text/plain": [
       "Country(\n",
       "    adj='Франкское',\n",
       "    subj='государство'\n",
       ")"
      ]
     },
     "metadata": {},
     "output_type": "display_data"
    },
    {
     "data": {
      "text/plain": [
       "Country(\n",
       "    adj='Франкского',\n",
       "    subj='государства'\n",
       ")"
      ]
     },
     "metadata": {},
     "output_type": "display_data"
    },
    {
     "data": {
      "text/plain": [
       "Country(\n",
       "    adj='современной',\n",
       "    subj='Франции'\n",
       ")"
      ]
     },
     "metadata": {},
     "output_type": "display_data"
    },
    {
     "data": {
      "text/plain": [
       "Country(\n",
       "    adj='Франкское',\n",
       "    subj='государство'\n",
       ")"
      ]
     },
     "metadata": {},
     "output_type": "display_data"
    },
    {
     "data": {
      "text/plain": [
       "Country(\n",
       "    adj='франкское',\n",
       "    subj='государство'\n",
       ")"
      ]
     },
     "metadata": {},
     "output_type": "display_data"
    },
    {
     "data": {
      "text/plain": [
       "Country(\n",
       "    adj='современной',\n",
       "    subj='Франции'\n",
       ")"
      ]
     },
     "metadata": {},
     "output_type": "display_data"
    },
    {
     "data": {
      "text/plain": [
       "Country(\n",
       "    adj='самой',\n",
       "    subj='Франции'\n",
       ")"
      ]
     },
     "metadata": {},
     "output_type": "display_data"
    },
    {
     "data": {
      "text/plain": [
       "Country(\n",
       "    adj='дальнейшем',\n",
       "    subj='Франция'\n",
       ")"
      ]
     },
     "metadata": {},
     "output_type": "display_data"
    },
    {
     "data": {
      "text/plain": [
       "Country(\n",
       "    adj='католической',\n",
       "    subj='Франции'\n",
       ")"
      ]
     },
     "metadata": {},
     "output_type": "display_data"
    },
    {
     "data": {
      "text/plain": [
       "Country(\n",
       "    adj='соседние',\n",
       "    subj='страны'\n",
       ")"
      ]
     },
     "metadata": {},
     "output_type": "display_data"
    },
    {
     "data": {
      "text/plain": [
       "Country(\n",
       "    adj='других',\n",
       "    subj='странах'\n",
       ")"
      ]
     },
     "metadata": {},
     "output_type": "display_data"
    },
    {
     "data": {
      "text/plain": [
       "Country(\n",
       "    adj='северной',\n",
       "    subj='Франции'\n",
       ")"
      ]
     },
     "metadata": {},
     "output_type": "display_data"
    },
    {
     "data": {
      "text/plain": [
       "Country(\n",
       "    adj='южной',\n",
       "    subj='Франции'\n",
       ")"
      ]
     },
     "metadata": {},
     "output_type": "display_data"
    },
    {
     "data": {
      "text/plain": [
       "Country(\n",
       "    adj='восточной',\n",
       "    subj='Франции'\n",
       ")"
      ]
     },
     "metadata": {},
     "output_type": "display_data"
    },
    {
     "data": {
      "text/plain": [
       "Country(\n",
       "    adj='восточной',\n",
       "    subj='Франции'\n",
       ")"
      ]
     },
     "metadata": {},
     "output_type": "display_data"
    },
    {
     "data": {
      "text/plain": [
       "Country(\n",
       "    adj='европейской',\n",
       "    subj='Франции'\n",
       ")"
      ]
     },
     "metadata": {},
     "output_type": "display_data"
    },
    {
     "data": {
      "text/plain": [
       "Country(\n",
       "    adj='европейской',\n",
       "    subj='Франции'\n",
       ")"
      ]
     },
     "metadata": {},
     "output_type": "display_data"
    },
    {
     "data": {
      "text/plain": [
       "Country(\n",
       "    adj='континентальной',\n",
       "    subj='Франции'\n",
       ")"
      ]
     },
     "metadata": {},
     "output_type": "display_data"
    },
    {
     "data": {
      "text/plain": [
       "Country(\n",
       "    adj='Главой',\n",
       "    subj='государства'\n",
       ")"
      ]
     },
     "metadata": {},
     "output_type": "display_data"
    },
    {
     "data": {
      "text/plain": [
       "Country(\n",
       "    adj='карибских',\n",
       "    subj='государств'\n",
       ")"
      ]
     },
     "metadata": {},
     "output_type": "display_data"
    },
    {
     "data": {
      "text/plain": [
       "Country(\n",
       "    adj='отдельными',\n",
       "    subj='странами'\n",
       ")"
      ]
     },
     "metadata": {},
     "output_type": "display_data"
    },
    {
     "data": {
      "text/plain": [
       "Country(\n",
       "    adj='французского',\n",
       "    subj='государства'\n",
       ")"
      ]
     },
     "metadata": {},
     "output_type": "display_data"
    },
    {
     "data": {
      "text/plain": [
       "Country(\n",
       "    adj='которого',\n",
       "    subj='Франция'\n",
       ")"
      ]
     },
     "metadata": {},
     "output_type": "display_data"
    },
    {
     "data": {
      "text/plain": [
       "Country(\n",
       "    adj='немногих',\n",
       "    subj='стран'\n",
       ")"
      ]
     },
     "metadata": {},
     "output_type": "display_data"
    },
    {
     "data": {
      "text/plain": [
       "Country(\n",
       "    adj='светская',\n",
       "    subj='страна'\n",
       ")"
      ]
     },
     "metadata": {},
     "output_type": "display_data"
    },
    {
     "data": {
      "text/plain": [
       "Country(\n",
       "    adj='религиозных',\n",
       "    subj='стран'\n",
       ")"
      ]
     },
     "metadata": {},
     "output_type": "display_data"
    },
    {
     "data": {
      "text/plain": [
       "Country(\n",
       "    adj='северной',\n",
       "    subj='Франции'\n",
       ")"
      ]
     },
     "metadata": {},
     "output_type": "display_data"
    },
    {
     "data": {
      "text/plain": [
       "Country(\n",
       "    adj='высокоразвитая постиндустриальная',\n",
       "    subj='страна'\n",
       ")"
      ]
     },
     "metadata": {},
     "output_type": "display_data"
    },
    {
     "data": {
      "text/plain": [
       "Country(\n",
       "    adj='многих',\n",
       "    subj='стран'\n",
       ")"
      ]
     },
     "metadata": {},
     "output_type": "display_data"
    },
    {
     "data": {
      "text/plain": [
       "Country(\n",
       "    adj='другим',\n",
       "    subj='странам'\n",
       ")"
      ]
     },
     "metadata": {},
     "output_type": "display_data"
    },
    {
     "data": {
      "text/plain": [
       "Country(\n",
       "    adj='европейской',\n",
       "    subj='страны'\n",
       ")"
      ]
     },
     "metadata": {},
     "output_type": "display_data"
    },
    {
     "data": {
      "text/plain": [
       "Country(\n",
       "    adj='этом',\n",
       "    subj='Франция'\n",
       ")"
      ]
     },
     "metadata": {},
     "output_type": "display_data"
    },
    {
     "data": {
      "text/plain": [
       "Country(\n",
       "    adj='других',\n",
       "    subj='стран'\n",
       ")"
      ]
     },
     "metadata": {},
     "output_type": "display_data"
    },
    {
     "data": {
      "text/plain": [
       "Country(\n",
       "    adj='привлекательные',\n",
       "    subj='страны'\n",
       ")"
      ]
     },
     "metadata": {},
     "output_type": "display_data"
    },
    {
     "data": {
      "text/plain": [
       "Country(\n",
       "    adj='соседними',\n",
       "    subj='странами'\n",
       ")"
      ]
     },
     "metadata": {},
     "output_type": "display_data"
    },
    {
     "data": {
      "text/plain": [
       "Country(\n",
       "    adj='всеми соседними',\n",
       "    subj='странами'\n",
       ")"
      ]
     },
     "metadata": {},
     "output_type": "display_data"
    },
    {
     "data": {
      "text/plain": [
       "Country(\n",
       "    adj='все',\n",
       "    subj='страны'\n",
       ")"
      ]
     },
     "metadata": {},
     "output_type": "display_data"
    },
    {
     "data": {
      "text/plain": [
       "Country(\n",
       "    adj='которого',\n",
       "    subj='Франция'\n",
       ")"
      ]
     },
     "metadata": {},
     "output_type": "display_data"
    },
    {
     "data": {
      "text/plain": [
       "Country(\n",
       "    adj='других',\n",
       "    subj='стран'\n",
       ")"
      ]
     },
     "metadata": {},
     "output_type": "display_data"
    },
    {
     "data": {
      "text/plain": [
       "Country(\n",
       "    adj='Южной',\n",
       "    subj='Франции'\n",
       ")"
      ]
     },
     "metadata": {},
     "output_type": "display_data"
    },
    {
     "data": {
      "text/plain": [
       "Country(\n",
       "    adj='средневековой',\n",
       "    subj='Франции'\n",
       ")"
      ]
     },
     "metadata": {},
     "output_type": "display_data"
    },
    {
     "data": {
      "text/plain": [
       "Country(\n",
       "    adj='сборная',\n",
       "    subj='Франции'\n",
       ")"
      ]
     },
     "metadata": {},
     "output_type": "display_data"
    },
    {
     "data": {
      "text/plain": [
       "Country(\n",
       "    adj='Сборная',\n",
       "    subj='Франции'\n",
       ")"
      ]
     },
     "metadata": {},
     "output_type": "display_data"
    }
   ],
   "source": [
    "Country = fact(\n",
    "    'Country',\n",
    "    ['adj', 'subj']\n",
    ")\n",
    "\n",
    "COUNTRY = rule(\n",
    "    rule(\n",
    "        gram('ADJF').repeatable()\n",
    "    ).interpretation(Country.adj),\n",
    "    rule(\n",
    "        dictionary({'страна', 'Франция', 'государство'})\n",
    "    ).interpretation(Country.subj)\n",
    ").interpretation(Country)\n",
    "\n",
    "parse(COUNTRY)"
   ]
  },
  {
   "cell_type": "markdown",
   "id": "0ac66d14",
   "metadata": {},
   "source": [
    "### Количественные показатели (в процентах)"
   ]
  },
  {
   "cell_type": "code",
   "execution_count": 155,
   "id": "7ecb06d6",
   "metadata": {},
   "outputs": [
    {
     "data": {
      "text/plain": [
       "Percent(\n",
       "    count='30 %',\n",
       "    subj='населения'\n",
       ")"
      ]
     },
     "metadata": {},
     "output_type": "display_data"
    },
    {
     "data": {
      "text/plain": [
       "Percent(\n",
       "    count='10 %',\n",
       "    subj='населения'\n",
       ")"
      ]
     },
     "metadata": {},
     "output_type": "display_data"
    },
    {
     "data": {
      "text/plain": [
       "Percent(\n",
       "    count='2 %',\n",
       "    subj='населения'\n",
       ")"
      ]
     },
     "metadata": {},
     "output_type": "display_data"
    },
    {
     "data": {
      "text/plain": [
       "Percent(\n",
       "    count='2 %',\n",
       "    subj='территории'\n",
       ")"
      ]
     },
     "metadata": {},
     "output_type": "display_data"
    },
    {
     "data": {
      "text/plain": [
       "Percent(\n",
       "    count='27 %',\n",
       "    subj='территории'\n",
       ")"
      ]
     },
     "metadata": {},
     "output_type": "display_data"
    },
    {
     "data": {
      "text/plain": [
       "Percent(\n",
       "    count='12 %',\n",
       "    subj='и'\n",
       ")"
      ]
     },
     "metadata": {},
     "output_type": "display_data"
    },
    {
     "data": {
      "text/plain": [
       "Percent(\n",
       "    count='54 %',\n",
       "    subj='голосов'\n",
       ")"
      ]
     },
     "metadata": {},
     "output_type": "display_data"
    },
    {
     "data": {
      "text/plain": [
       "Percent(\n",
       "    count='18 %',\n",
       "    subj='голосов'\n",
       ")"
      ]
     },
     "metadata": {},
     "output_type": "display_data"
    },
    {
     "data": {
      "text/plain": [
       "Percent(\n",
       "    count='87 %',\n",
       "    subj='голосов'\n",
       ")"
      ]
     },
     "metadata": {},
     "output_type": "display_data"
    },
    {
     "data": {
      "text/plain": [
       "Percent(\n",
       "    count='20 %',\n",
       "    subj='избирателей'\n",
       ")"
      ]
     },
     "metadata": {},
     "output_type": "display_data"
    },
    {
     "data": {
      "text/plain": [
       "Percent(\n",
       "    count='1 %',\n",
       "    subj='населения'\n",
       ")"
      ]
     },
     "metadata": {},
     "output_type": "display_data"
    },
    {
     "data": {
      "text/plain": [
       "Percent(\n",
       "    count='90 %',\n",
       "    subj='населения'\n",
       ")"
      ]
     },
     "metadata": {},
     "output_type": "display_data"
    },
    {
     "data": {
      "text/plain": [
       "Percent(\n",
       "    count='9 %',\n",
       "    subj='населения'\n",
       ")"
      ]
     },
     "metadata": {},
     "output_type": "display_data"
    },
    {
     "data": {
      "text/plain": [
       "Percent(\n",
       "    count='9 %',\n",
       "    subj='населения'\n",
       ")"
      ]
     },
     "metadata": {},
     "output_type": "display_data"
    },
    {
     "data": {
      "text/plain": [
       "Percent(\n",
       "    count='30 %',\n",
       "    subj='населения'\n",
       ")"
      ]
     },
     "metadata": {},
     "output_type": "display_data"
    },
    {
     "data": {
      "text/plain": [
       "Percent(\n",
       "    count='10 %',\n",
       "    subj='семей'\n",
       ")"
      ]
     },
     "metadata": {},
     "output_type": "display_data"
    },
    {
     "data": {
      "text/plain": [
       "Percent(\n",
       "    count='4 %',\n",
       "    subj='ВВП'\n",
       ")"
      ]
     },
     "metadata": {},
     "output_type": "display_data"
    },
    {
     "data": {
      "text/plain": [
       "Percent(\n",
       "    count='25 %',\n",
       "    subj='продукции'\n",
       ")"
      ]
     },
     "metadata": {},
     "output_type": "display_data"
    },
    {
     "data": {
      "text/plain": [
       "Percent(\n",
       "    count='82 %',\n",
       "    subj='территории'\n",
       ")"
      ]
     },
     "metadata": {},
     "output_type": "display_data"
    },
    {
     "data": {
      "text/plain": [
       "Percent(\n",
       "    count='30 %',\n",
       "    subj='территории'\n",
       ")"
      ]
     },
     "metadata": {},
     "output_type": "display_data"
    },
    {
     "data": {
      "text/plain": [
       "Percent(\n",
       "    count='14 %',\n",
       "    subj='стоимости'\n",
       ")"
      ]
     },
     "metadata": {},
     "output_type": "display_data"
    },
    {
     "data": {
      "text/plain": [
       "Percent(\n",
       "    count='64 %',\n",
       "    subj='расходов'\n",
       ")"
      ]
     },
     "metadata": {},
     "output_type": "display_data"
    },
    {
     "data": {
      "text/plain": [
       "Percent(\n",
       "    count='40 %',\n",
       "    subj='времени'\n",
       ")"
      ]
     },
     "metadata": {},
     "output_type": "display_data"
    }
   ],
   "source": [
    "Percent = fact(\n",
    "    'Percent',\n",
    "    ['count', 'subj']\n",
    ")\n",
    "\n",
    "PERCENT = rule(\n",
    "    rule(\n",
    "        yatype('INT'),\n",
    "        '%'\n",
    "    ).interpretation(Percent.count),\n",
    "    gram('NOUN').interpretation(Percent.subj)\n",
    ").interpretation(Percent)\n",
    "\n",
    "parse(PERCENT)"
   ]
  },
  {
   "cell_type": "markdown",
   "id": "27426d04",
   "metadata": {},
   "source": [
    "### Количественные показатели с учетом грамматики (в процентах)"
   ]
  },
  {
   "cell_type": "code",
   "execution_count": 156,
   "id": "e39a442e",
   "metadata": {},
   "outputs": [
    {
     "data": {
      "text/plain": [
       "Percent(\n",
       "    count='41 %',\n",
       "    subj='католики'\n",
       ")"
      ]
     },
     "metadata": {},
     "output_type": "display_data"
    },
    {
     "data": {
      "text/plain": [
       "Percent(\n",
       "    count='40 %',\n",
       "    subj='нерелигиозные'\n",
       ")"
      ]
     },
     "metadata": {},
     "output_type": "display_data"
    },
    {
     "data": {
      "text/plain": [
       "Percent(\n",
       "    count='5 %',\n",
       "    subj='мусульмане'\n",
       ")"
      ]
     },
     "metadata": {},
     "output_type": "display_data"
    },
    {
     "data": {
      "text/plain": [
       "Percent(\n",
       "    count='5 %',\n",
       "    subj='религии'\n",
       ")"
      ]
     },
     "metadata": {},
     "output_type": "display_data"
    },
    {
     "data": {
      "text/plain": [
       "Percent(\n",
       "    count='2 %',\n",
       "    subj='лютеране'\n",
       ")"
      ]
     },
     "metadata": {},
     "output_type": "display_data"
    },
    {
     "data": {
      "text/plain": [
       "Percent(\n",
       "    count='2 %',\n",
       "    subj='православные'\n",
       ")"
      ]
     },
     "metadata": {},
     "output_type": "display_data"
    },
    {
     "data": {
      "text/plain": [
       "Percent(\n",
       "    count='2 %',\n",
       "    subj='христиане'\n",
       ")"
      ]
     },
     "metadata": {},
     "output_type": "display_data"
    },
    {
     "data": {
      "text/plain": [
       "Percent(\n",
       "    count='1 %',\n",
       "    subj='буддисты'\n",
       ")"
      ]
     },
     "metadata": {},
     "output_type": "display_data"
    },
    {
     "data": {
      "text/plain": [
       "Percent(\n",
       "    count='1 %',\n",
       "    subj='иудеи'\n",
       ")"
      ]
     },
     "metadata": {},
     "output_type": "display_data"
    },
    {
     "data": {
      "text/plain": [
       "Percent(\n",
       "    count='1 %',\n",
       "    subj='данных'\n",
       ")"
      ]
     },
     "metadata": {},
     "output_type": "display_data"
    },
    {
     "data": {
      "text/plain": [
       "Percent(\n",
       "    count='45 %',\n",
       "    subj='религии'\n",
       ")"
      ]
     },
     "metadata": {},
     "output_type": "display_data"
    },
    {
     "data": {
      "text/plain": [
       "Percent(\n",
       "    count='43 %',\n",
       "    subj='Католики'\n",
       ")"
      ]
     },
     "metadata": {},
     "output_type": "display_data"
    },
    {
     "data": {
      "text/plain": [
       "Percent(\n",
       "    count='8 %',\n",
       "    subj='Мусульмане'\n",
       ")"
      ]
     },
     "metadata": {},
     "output_type": "display_data"
    },
    {
     "data": {
      "text/plain": [
       "Percent(\n",
       "    count='2 %',\n",
       "    subj='Протестанты'\n",
       ")"
      ]
     },
     "metadata": {},
     "output_type": "display_data"
    },
    {
     "data": {
      "text/plain": [
       "Percent(\n",
       "    count='1 %',\n",
       "    subj='Православные'\n",
       ")"
      ]
     },
     "metadata": {},
     "output_type": "display_data"
    },
    {
     "data": {
      "text/plain": [
       "Percent(\n",
       "    count='1 %',\n",
       "    subj='Иудеи'\n",
       ")"
      ]
     },
     "metadata": {},
     "output_type": "display_data"
    },
    {
     "data": {
      "text/plain": [
       "Percent(\n",
       "    count='1 %',\n",
       "    subj='Буддисты'\n",
       ")"
      ]
     },
     "metadata": {},
     "output_type": "display_data"
    },
    {
     "data": {
      "text/plain": [
       "Percent(\n",
       "    count='1 %',\n",
       "    subj='Прочие'\n",
       ")"
      ]
     },
     "metadata": {},
     "output_type": "display_data"
    },
    {
     "data": {
      "text/plain": [
       "Percent(\n",
       "    count='13 %',\n",
       "    subj='миру'\n",
       ")"
      ]
     },
     "metadata": {},
     "output_type": "display_data"
    },
    {
     "data": {
      "text/plain": [
       "Percent(\n",
       "    count='23 %',\n",
       "    subj='миру'\n",
       ")"
      ]
     },
     "metadata": {},
     "output_type": "display_data"
    },
    {
     "data": {
      "text/plain": [
       "Percent(\n",
       "    count='59 %',\n",
       "    subj='миру'\n",
       ")"
      ]
     },
     "metadata": {},
     "output_type": "display_data"
    },
    {
     "data": {
      "text/plain": [
       "Percent(\n",
       "    count='5 %',\n",
       "    subj='миру'\n",
       ")"
      ]
     },
     "metadata": {},
     "output_type": "display_data"
    },
    {
     "data": {
      "text/plain": [
       "Percent(\n",
       "    count='41 %',\n",
       "    subj='католики'\n",
       ")"
      ]
     },
     "metadata": {},
     "output_type": "display_data"
    },
    {
     "data": {
      "text/plain": [
       "Percent(\n",
       "    count='5 %',\n",
       "    subj='мусульмане'\n",
       ")"
      ]
     },
     "metadata": {},
     "output_type": "display_data"
    },
    {
     "data": {
      "text/plain": [
       "Percent(\n",
       "    count='5 %',\n",
       "    subj='религии'\n",
       ")"
      ]
     },
     "metadata": {},
     "output_type": "display_data"
    },
    {
     "data": {
      "text/plain": [
       "Percent(\n",
       "    count='2 %',\n",
       "    subj='лютеране'\n",
       ")"
      ]
     },
     "metadata": {},
     "output_type": "display_data"
    },
    {
     "data": {
      "text/plain": [
       "Percent(\n",
       "    count='2 %',\n",
       "    subj='православные'\n",
       ")"
      ]
     },
     "metadata": {},
     "output_type": "display_data"
    },
    {
     "data": {
      "text/plain": [
       "Percent(\n",
       "    count='2 %',\n",
       "    subj='христиане'\n",
       ")"
      ]
     },
     "metadata": {},
     "output_type": "display_data"
    },
    {
     "data": {
      "text/plain": [
       "Percent(\n",
       "    count='1 %',\n",
       "    subj='буддисты'\n",
       ")"
      ]
     },
     "metadata": {},
     "output_type": "display_data"
    },
    {
     "data": {
      "text/plain": [
       "Percent(\n",
       "    count='1 %',\n",
       "    subj='иудеи'\n",
       ")"
      ]
     },
     "metadata": {},
     "output_type": "display_data"
    },
    {
     "data": {
      "text/plain": [
       "Percent(\n",
       "    count='1 %',\n",
       "    subj='данных'\n",
       ")"
      ]
     },
     "metadata": {},
     "output_type": "display_data"
    }
   ],
   "source": [
    "Percent = fact(\n",
    "    'Percent',\n",
    "    ['count', 'subj']\n",
    ")\n",
    "\n",
    "PERCENT = rule(\n",
    "    or_(\n",
    "        gram('NOUN'),\n",
    "        gram('ADJF')\n",
    "    ).interpretation(Percent.subj),\n",
    "    '—',\n",
    "    rule(\n",
    "        yatype('INT'),\n",
    "        '%'\n",
    "    ).interpretation(Percent.count),\n",
    "    gram('NOUN').optional().interpretation(Percent.subj)\n",
    ").interpretation(Percent)\n",
    "\n",
    "parse(PERCENT)"
   ]
  },
  {
   "cell_type": "markdown",
   "id": "9ab234e8",
   "metadata": {},
   "source": [
    "### Определения и названия политических партий"
   ]
  },
  {
   "cell_type": "code",
   "execution_count": 157,
   "id": "3a299558",
   "metadata": {},
   "outputs": [
    {
     "data": {
      "text/plain": [
       "Party(\n",
       "    main='Рабочая партия'\n",
       ")"
      ]
     },
     "metadata": {},
     "output_type": "display_data"
    },
    {
     "data": {
      "text/plain": [
       "Party(\n",
       "    main='Социалистическая партия Франции'\n",
       ")"
      ]
     },
     "metadata": {},
     "output_type": "display_data"
    },
    {
     "data": {
      "text/plain": [
       "Party(\n",
       "    main='Французская социалистическая партия'\n",
       ")"
      ]
     },
     "metadata": {},
     "output_type": "display_data"
    },
    {
     "data": {
      "text/plain": [
       "Party(\n",
       "    main='ультраправая националистическая партия'\n",
       ")"
      ]
     },
     "metadata": {},
     "output_type": "display_data"
    },
    {
     "data": {
      "text/plain": [
       "Party(\n",
       "    main='Основная консервативная партия'\n",
       ")"
      ]
     },
     "metadata": {},
     "output_type": "display_data"
    },
    {
     "data": {
      "text/plain": [
       "Party(\n",
       "    main='правоконсервативная голлистская партия'\n",
       ")"
      ]
     },
     "metadata": {},
     "output_type": "display_data"
    },
    {
     "data": {
      "text/plain": [
       "Party(\n",
       "    main='правоцентристская голлистская партия'\n",
       ")"
      ]
     },
     "metadata": {},
     "output_type": "display_data"
    },
    {
     "data": {
      "text/plain": [
       "Party(\n",
       "    main='консервативная голлистская партия'\n",
       ")"
      ]
     },
     "metadata": {},
     "output_type": "display_data"
    },
    {
     "data": {
      "text/plain": [
       "Party(\n",
       "    main='евроскептическая голлистская партия с'\n",
       ")"
      ]
     },
     "metadata": {},
     "output_type": "display_data"
    },
    {
     "data": {
      "text/plain": [
       "Party(\n",
       "    main='традиционалистская партия'\n",
       ")"
      ]
     },
     "metadata": {},
     "output_type": "display_data"
    },
    {
     "data": {
      "text/plain": [
       "Party(\n",
       "    main='либеральная партия'\n",
       ")"
      ]
     },
     "metadata": {},
     "output_type": "display_data"
    },
    {
     "data": {
      "text/plain": [
       "Party(\n",
       "    main='Радикальная партия'\n",
       ")"
      ]
     },
     "metadata": {},
     "output_type": "display_data"
    },
    {
     "data": {
      "text/plain": [
       "Party(\n",
       "    main='политическая партия Франции'\n",
       ")"
      ]
     },
     "metadata": {},
     "output_type": "display_data"
    },
    {
     "data": {
      "text/plain": [
       "Party(\n",
       "    main='либеральная партия'\n",
       ")"
      ]
     },
     "metadata": {},
     "output_type": "display_data"
    },
    {
     "data": {
      "text/plain": [
       "Party(\n",
       "    main='реформистская партия'\n",
       ")"
      ]
     },
     "metadata": {},
     "output_type": "display_data"
    },
    {
     "data": {
      "text/plain": [
       "Party(\n",
       "    main='Радикальная левая партия'\n",
       ")"
      ]
     },
     "metadata": {},
     "output_type": "display_data"
    },
    {
     "data": {
      "text/plain": [
       "Party(\n",
       "    main='леволиберальная партия'\n",
       ")"
      ]
     },
     "metadata": {},
     "output_type": "display_data"
    },
    {
     "data": {
      "text/plain": [
       "Party(\n",
       "    main='Социалистическая партия'\n",
       ")"
      ]
     },
     "metadata": {},
     "output_type": "display_data"
    },
    {
     "data": {
      "text/plain": [
       "Party(\n",
       "    main='основная социалистическая партия страны'\n",
       ")"
      ]
     },
     "metadata": {},
     "output_type": "display_data"
    },
    {
     "data": {
      "text/plain": [
       "Party(\n",
       "    main='экологистская партия левого толка'\n",
       ")"
      ]
     },
     "metadata": {},
     "output_type": "display_data"
    },
    {
     "data": {
      "text/plain": [
       "Party(\n",
       "    main='Французская коммунистическая партия'\n",
       ")"
      ]
     },
     "metadata": {},
     "output_type": "display_data"
    },
    {
     "data": {
      "text/plain": [
       "Party(\n",
       "    main='Левая партия'\n",
       ")"
      ]
     },
     "metadata": {},
     "output_type": "display_data"
    },
    {
     "data": {
      "text/plain": [
       "Party(\n",
       "    main='левосоциалистическая партия'\n",
       ")"
      ]
     },
     "metadata": {},
     "output_type": "display_data"
    },
    {
     "data": {
      "text/plain": [
       "Party(\n",
       "    main='Новая антикапиталистическая партия'\n",
       ")"
      ]
     },
     "metadata": {},
     "output_type": "display_data"
    },
    {
     "data": {
      "text/plain": [
       "Party(\n",
       "    main='радикальная левая партия'\n",
       ")"
      ]
     },
     "metadata": {},
     "output_type": "display_data"
    },
    {
     "data": {
      "text/plain": [
       "Party(\n",
       "    main='троцкистская партия'\n",
       ")"
      ]
     },
     "metadata": {},
     "output_type": "display_data"
    },
    {
     "data": {
      "text/plain": [
       "Party(\n",
       "    main='Независимая рабочая партия'\n",
       ")"
      ]
     },
     "metadata": {},
     "output_type": "display_data"
    },
    {
     "data": {
      "text/plain": [
       "Party(\n",
       "    main='левая евроскептическая партия'\n",
       ")"
      ]
     },
     "metadata": {},
     "output_type": "display_data"
    },
    {
     "data": {
      "text/plain": [
       "Party(\n",
       "    main='левопопулистская евроскептическая партия'\n",
       ")"
      ]
     },
     "metadata": {},
     "output_type": "display_data"
    },
    {
     "data": {
      "text/plain": [
       "Party(\n",
       "    main='президентская партия «Союз за народное движение»'\n",
       ")"
      ]
     },
     "metadata": {},
     "output_type": "display_data"
    }
   ],
   "source": [
    "Party = fact(\n",
    "    'Party',\n",
    "    ['main']\n",
    ")\n",
    "\n",
    "PARTY = rule(\n",
    "    gram('ADJF').repeatable(),\n",
    "    'партия',\n",
    "    TITLE.optional(), # Используем одно из написанных правил - название в кавычках\n",
    "    or_(\n",
    "        gram('ADJF'),\n",
    "        gram('NOUN'),\n",
    "    ).optional().repeatable(),\n",
    ").interpretation(Party.main).interpretation(Party)\n",
    "\n",
    "parse(PARTY)"
   ]
  },
  {
   "cell_type": "markdown",
   "id": "582cfbd7",
   "metadata": {},
   "source": [
    "### Деньги"
   ]
  },
  {
   "cell_type": "code",
   "execution_count": 158,
   "id": "12dd4e8b",
   "metadata": {},
   "outputs": [
    {
     "data": {
      "text/plain": [
       "Money(\n",
       "    value='1539,42',\n",
       "    currency='евро'\n",
       ")"
      ]
     },
     "metadata": {},
     "output_type": "display_data"
    },
    {
     "data": {
      "text/plain": [
       "Money(\n",
       "    value='47,7 млрд',\n",
       "    currency='евро'\n",
       ")"
      ]
     },
     "metadata": {},
     "output_type": "display_data"
    },
    {
     "data": {
      "text/plain": [
       "Money(\n",
       "    value='32,78 млрд',\n",
       "    currency='евро'\n",
       ")"
      ]
     },
     "metadata": {},
     "output_type": "display_data"
    },
    {
     "data": {
      "text/plain": [
       "Money(\n",
       "    value='17,53 млрд',\n",
       "    currency='евро'\n",
       ")"
      ]
     },
     "metadata": {},
     "output_type": "display_data"
    }
   ],
   "source": [
    "Money = fact(\n",
    "    'Money',\n",
    "    ['value', 'currency']\n",
    ")\n",
    "\n",
    "Float = fact(\n",
    "    'Float',\n",
    "    ['value']\n",
    ")\n",
    "\n",
    "\n",
    "INT = yatype('INT')\n",
    "FLOAT = rule(\n",
    "    INT,\n",
    "    ',',\n",
    "    INT\n",
    ")\n",
    "\n",
    "MONEY = rule(\n",
    "    rule(\n",
    "        FLOAT,\n",
    "        dictionary({\n",
    "            'тысяча',\n",
    "            'миллион',\n",
    "            'млрд',\n",
    "            'тыс',\n",
    "            'млн'\n",
    "        }).optional()\n",
    "    ).interpretation(\n",
    "        Money.value\n",
    "    ),\n",
    "    eq('евро').interpretation(\n",
    "        Money.currency\n",
    "    )\n",
    ").interpretation(\n",
    "    Money\n",
    ")\n",
    "\n",
    "parse(MONEY)"
   ]
  },
  {
   "cell_type": "code",
   "execution_count": null,
   "id": "130678e3",
   "metadata": {},
   "outputs": [],
   "source": []
  }
 ],
 "metadata": {
  "kernelspec": {
   "display_name": "Python 3 (ipykernel)",
   "language": "python",
   "name": "python3"
  },
  "language_info": {
   "codemirror_mode": {
    "name": "ipython",
    "version": 3
   },
   "file_extension": ".py",
   "mimetype": "text/x-python",
   "name": "python",
   "nbconvert_exporter": "python",
   "pygments_lexer": "ipython3",
   "version": "3.9.16"
  }
 },
 "nbformat": 4,
 "nbformat_minor": 5
}
